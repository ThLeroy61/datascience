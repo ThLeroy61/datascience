{
 "cells": [
  {
   "cell_type": "code",
   "execution_count": 40,
   "id": "c8b602f5",
   "metadata": {},
   "outputs": [],
   "source": [
    "#import extensions\n",
    "\n",
    "import pandas as pd\n",
    "import seaborn as sns\n",
    "import numpy as np\n",
    "import matplotlib.pyplot as plt"
   ]
  },
  {
   "cell_type": "markdown",
   "id": "46625fe5",
   "metadata": {},
   "source": [
    "# Nettoyage et uniformisation des données"
   ]
  },
  {
   "cell_type": "code",
   "execution_count": 41,
   "id": "6369cbe3",
   "metadata": {},
   "outputs": [
    {
     "data": {
      "text/html": [
       "<div>\n",
       "<style scoped>\n",
       "    .dataframe tbody tr th:only-of-type {\n",
       "        vertical-align: middle;\n",
       "    }\n",
       "\n",
       "    .dataframe tbody tr th {\n",
       "        vertical-align: top;\n",
       "    }\n",
       "\n",
       "    .dataframe thead th {\n",
       "        text-align: right;\n",
       "    }\n",
       "</style>\n",
       "<table border=\"1\" class=\"dataframe\">\n",
       "  <thead>\n",
       "    <tr style=\"text-align: right;\">\n",
       "      <th></th>\n",
       "      <th>COUNTRIES</th>\n",
       "      <th>UNIVERSITIES</th>\n",
       "      <th>FACULTIES</th>\n",
       "      <th>DEPARTMENTS</th>\n",
       "      <th>EXAM SCORE</th>\n",
       "      <th>GRANT</th>\n",
       "    </tr>\n",
       "  </thead>\n",
       "  <tbody>\n",
       "    <tr>\n",
       "      <th>0</th>\n",
       "      <td>ITALIA</td>\n",
       "      <td>UNIVERSITA DEGLI STUDI DI ROMA LA SAPIENZA</td>\n",
       "      <td>FACULTY OF ARTS AND SCIENCES</td>\n",
       "      <td>ENGLISH LANGUAGE AND LITERATURE</td>\n",
       "      <td>98.50</td>\n",
       "      <td>1</td>\n",
       "    </tr>\n",
       "    <tr>\n",
       "      <th>1</th>\n",
       "      <td>ITALIA</td>\n",
       "      <td>ALMA MATER STUDIORUM - UNIVERSITA DI BOLOGNA</td>\n",
       "      <td>FACULTY OF ARTS AND SCIENCES</td>\n",
       "      <td>SOCIOLOGY</td>\n",
       "      <td>97.10</td>\n",
       "      <td>1</td>\n",
       "    </tr>\n",
       "    <tr>\n",
       "      <th>2</th>\n",
       "      <td>GERMAN</td>\n",
       "      <td>UNIVERSITAET BIELEFELD</td>\n",
       "      <td>FACULTY OF ARTS AND SCIENCES</td>\n",
       "      <td>PSYCHOLOGY</td>\n",
       "      <td>96.80</td>\n",
       "      <td>1</td>\n",
       "    </tr>\n",
       "    <tr>\n",
       "      <th>3</th>\n",
       "      <td>GERMAN</td>\n",
       "      <td>HOCHSCHULE FUR ANGEWANDTE WISSENSCHAFTEN HAMBURG</td>\n",
       "      <td>FACULTY OF HEALTH SCIENCES</td>\n",
       "      <td>NUTRITION AND DIETETICS</td>\n",
       "      <td>96.50</td>\n",
       "      <td>1</td>\n",
       "    </tr>\n",
       "    <tr>\n",
       "      <th>4</th>\n",
       "      <td>ITALIA</td>\n",
       "      <td>UNIVERSITA DEGLI STUDI DI ROMA LA SAPIENZA</td>\n",
       "      <td>FACULTY OF ARTS AND SCIENCES</td>\n",
       "      <td>ENGLISH LANGUAGE AND LITERATURE</td>\n",
       "      <td>96.32</td>\n",
       "      <td>1</td>\n",
       "    </tr>\n",
       "  </tbody>\n",
       "</table>\n",
       "</div>"
      ],
      "text/plain": [
       "  COUNTRIES                                      UNIVERSITIES  \\\n",
       "0    ITALIA        UNIVERSITA DEGLI STUDI DI ROMA LA SAPIENZA   \n",
       "1    ITALIA      ALMA MATER STUDIORUM - UNIVERSITA DI BOLOGNA   \n",
       "2    GERMAN                            UNIVERSITAET BIELEFELD   \n",
       "3    GERMAN  HOCHSCHULE FUR ANGEWANDTE WISSENSCHAFTEN HAMBURG   \n",
       "4    ITALIA       UNIVERSITA DEGLI STUDI DI ROMA LA SAPIENZA    \n",
       "\n",
       "                      FACULTIES                      DEPARTMENTS  EXAM SCORE  \\\n",
       "0  FACULTY OF ARTS AND SCIENCES  ENGLISH LANGUAGE AND LITERATURE       98.50   \n",
       "1  FACULTY OF ARTS AND SCIENCES                        SOCIOLOGY       97.10   \n",
       "2  FACULTY OF ARTS AND SCIENCES                       PSYCHOLOGY       96.80   \n",
       "3    FACULTY OF HEALTH SCIENCES          NUTRITION AND DIETETICS       96.50   \n",
       "4  FACULTY OF ARTS AND SCIENCES  ENGLISH LANGUAGE AND LITERATURE       96.32   \n",
       "\n",
       "   GRANT  \n",
       "0      1  \n",
       "1      1  \n",
       "2      1  \n",
       "3      1  \n",
       "4      1  "
      ]
     },
     "execution_count": 41,
     "metadata": {},
     "output_type": "execute_result"
    }
   ],
   "source": [
    "#importation du CSV\n",
    "\n",
    "df = pd.read_csv('erasmus.csv')\n",
    "\n",
    "#Je retire la colonne INDEX\n",
    "df.drop(['INDEX'], axis=1, inplace=True)\n",
    "df.head()"
   ]
  },
  {
   "cell_type": "code",
   "execution_count": 42,
   "id": "7faae985",
   "metadata": {},
   "outputs": [
    {
     "data": {
      "text/plain": [
       "COUNTRIES        string\n",
       "UNIVERSITIES     string\n",
       "FACULTIES        string\n",
       "DEPARTMENTS      string\n",
       "EXAM SCORE      float64\n",
       "GRANT             int64\n",
       "dtype: object"
      ]
     },
     "execution_count": 42,
     "metadata": {},
     "output_type": "execute_result"
    }
   ],
   "source": [
    "#J'affiche le type de données\n",
    "\n",
    "df['COUNTRIES'] = df['COUNTRIES'].astype(\"string\")\n",
    "df['UNIVERSITIES'] = df['UNIVERSITIES'].astype(\"string\")\n",
    "df['FACULTIES'] = df['FACULTIES'].astype(\"string\")\n",
    "df['DEPARTMENTS'] = df['DEPARTMENTS'].astype(\"string\")\n",
    "\n",
    "df.dtypes"
   ]
  },
  {
   "cell_type": "code",
   "execution_count": 43,
   "id": "46634c81",
   "metadata": {},
   "outputs": [
    {
     "data": {
      "text/plain": [
       "COUNTRIES       0\n",
       "UNIVERSITIES    0\n",
       "FACULTIES       0\n",
       "DEPARTMENTS     2\n",
       "EXAM SCORE      0\n",
       "GRANT           0\n",
       "dtype: int64"
      ]
     },
     "execution_count": 43,
     "metadata": {},
     "output_type": "execute_result"
    }
   ],
   "source": [
    "#count nan values\n",
    "df.isna().sum()"
   ]
  },
  {
   "cell_type": "code",
   "execution_count": 44,
   "id": "f7162595",
   "metadata": {},
   "outputs": [
    {
     "data": {
      "text/html": [
       "<div>\n",
       "<style scoped>\n",
       "    .dataframe tbody tr th:only-of-type {\n",
       "        vertical-align: middle;\n",
       "    }\n",
       "\n",
       "    .dataframe tbody tr th {\n",
       "        vertical-align: top;\n",
       "    }\n",
       "\n",
       "    .dataframe thead th {\n",
       "        text-align: right;\n",
       "    }\n",
       "</style>\n",
       "<table border=\"1\" class=\"dataframe\">\n",
       "  <thead>\n",
       "    <tr style=\"text-align: right;\">\n",
       "      <th></th>\n",
       "      <th>COUNTRIES</th>\n",
       "      <th>UNIVERSITIES</th>\n",
       "      <th>FACULTIES</th>\n",
       "      <th>DEPARTMENTS</th>\n",
       "      <th>EXAM SCORE</th>\n",
       "      <th>GRANT</th>\n",
       "    </tr>\n",
       "  </thead>\n",
       "  <tbody>\n",
       "    <tr>\n",
       "      <th>216</th>\n",
       "      <td>DUTCH</td>\n",
       "      <td>STICHTING CHRISTELIJKE HOGESCHOOL WINDESHEIM</td>\n",
       "      <td>FACULTY OF COMPUTER AND INFORMATION SCIENCES</td>\n",
       "      <td>&lt;NA&gt;</td>\n",
       "      <td>76.92</td>\n",
       "      <td>0</td>\n",
       "    </tr>\n",
       "    <tr>\n",
       "      <th>245</th>\n",
       "      <td>FRANCE</td>\n",
       "      <td>CY CERGY PARIS UNIVERSITE</td>\n",
       "      <td>FACULTY OF COMPUTER AND INFORMATION SCIENCES</td>\n",
       "      <td>&lt;NA&gt;</td>\n",
       "      <td>74.27</td>\n",
       "      <td>0</td>\n",
       "    </tr>\n",
       "  </tbody>\n",
       "</table>\n",
       "</div>"
      ],
      "text/plain": [
       "    COUNTRIES                                  UNIVERSITIES  \\\n",
       "216     DUTCH  STICHTING CHRISTELIJKE HOGESCHOOL WINDESHEIM   \n",
       "245    FRANCE                     CY CERGY PARIS UNIVERSITE   \n",
       "\n",
       "                                         FACULTIES DEPARTMENTS  EXAM SCORE  \\\n",
       "216   FACULTY OF COMPUTER AND INFORMATION SCIENCES        <NA>       76.92   \n",
       "245   FACULTY OF COMPUTER AND INFORMATION SCIENCES        <NA>       74.27   \n",
       "\n",
       "     GRANT  \n",
       "216      0  \n",
       "245      0  "
      ]
     },
     "execution_count": 44,
     "metadata": {},
     "output_type": "execute_result"
    }
   ],
   "source": [
    "#print rows with NaN values\n",
    "nanValues = df[df['DEPARTMENTS'].isna()]\n",
    "nanValues\n",
    "\n",
    "#Two rows here, both are from a computer and information sciences faculties, \n",
    "#I'll check the departements from the same faculties and see if I can change de department"
   ]
  },
  {
   "cell_type": "code",
   "execution_count": 45,
   "id": "47b57377",
   "metadata": {},
   "outputs": [
    {
     "data": {
      "text/plain": [
       "<StringArray>\n",
       "[                    'FACULTY OF ARTS AND SCIENCES',\n",
       "                       'FACULTY OF HEALTH SCIENCES',\n",
       " 'FACULTY OF ECONOMICS AND ADMINISTRATIVE SCIENCES',\n",
       "                             'FACULTY OF EDUCATION',\n",
       "                             'FACULTY OF FINE ARTS',\n",
       "                           'FACULTY OF ENGINEERING',\n",
       "                                   'FACULTY OF LAW',\n",
       "     'FACULTY OF COMPUTER AND INFORMATION SCIENCES',\n",
       "                         'FACULTY OF COMMUNICATION',\n",
       "                          'FACULTY OF ARCHITECTURE',\n",
       "                              'FACULTY OF MEDICINE',\n",
       "                              'FACULTY OF PHARMACY',\n",
       "               'GRADUATE SCHOOL OF SOCIAL SCIENCES']\n",
       "Length: 13, dtype: string"
      ]
     },
     "execution_count": 45,
     "metadata": {},
     "output_type": "execute_result"
    }
   ],
   "source": [
    "#Remove the unwanted white spaces from rows\n",
    "df['FACULTIES'] = df['FACULTIES'].str.strip()\n",
    "\n",
    "df['FACULTIES'].unique()"
   ]
  },
  {
   "cell_type": "code",
   "execution_count": 46,
   "id": "bce9ec6c",
   "metadata": {},
   "outputs": [
    {
     "data": {
      "text/plain": [
       "COUNTRIES       0\n",
       "UNIVERSITIES    0\n",
       "FACULTIES       0\n",
       "DEPARTMENTS     0\n",
       "EXAM SCORE      0\n",
       "GRANT           0\n",
       "dtype: int64"
      ]
     },
     "execution_count": 46,
     "metadata": {},
     "output_type": "execute_result"
    }
   ],
   "source": [
    "df_final = df.dropna()\n",
    "df_final.isna().sum()"
   ]
  },
  {
   "cell_type": "code",
   "execution_count": 47,
   "id": "514c74d4",
   "metadata": {},
   "outputs": [
    {
     "name": "stdout",
     "output_type": "stream",
     "text": [
      "0\n"
     ]
    }
   ],
   "source": [
    "#Show duplicates\n",
    "print(df.duplicated().sum())"
   ]
  },
  {
   "cell_type": "code",
   "execution_count": 48,
   "id": "b7693547",
   "metadata": {},
   "outputs": [
    {
     "name": "stderr",
     "output_type": "stream",
     "text": [
      "C:\\Users\\starTech\\AppData\\Local\\Temp\\ipykernel_25744\\1522723855.py:1: SettingWithCopyWarning: \n",
      "A value is trying to be set on a copy of a slice from a DataFrame\n",
      "\n",
      "See the caveats in the documentation: https://pandas.pydata.org/pandas-docs/stable/user_guide/indexing.html#returning-a-view-versus-a-copy\n",
      "  df_final.rename(columns={'COUNTRIES' : 'country', 'EXAM SCORE': 'exam_score', 'FACULTIES': 'faculty', 'DEPARTMENTS': 'department', 'UNIVERSITIES' : 'university', 'GRANT' : 'grant'}, inplace=True)\n"
     ]
    },
    {
     "data": {
      "text/html": [
       "<div>\n",
       "<style scoped>\n",
       "    .dataframe tbody tr th:only-of-type {\n",
       "        vertical-align: middle;\n",
       "    }\n",
       "\n",
       "    .dataframe tbody tr th {\n",
       "        vertical-align: top;\n",
       "    }\n",
       "\n",
       "    .dataframe thead th {\n",
       "        text-align: right;\n",
       "    }\n",
       "</style>\n",
       "<table border=\"1\" class=\"dataframe\">\n",
       "  <thead>\n",
       "    <tr style=\"text-align: right;\">\n",
       "      <th></th>\n",
       "      <th>country</th>\n",
       "      <th>university</th>\n",
       "      <th>faculty</th>\n",
       "      <th>department</th>\n",
       "      <th>exam_score</th>\n",
       "      <th>grant</th>\n",
       "    </tr>\n",
       "  </thead>\n",
       "  <tbody>\n",
       "    <tr>\n",
       "      <th>0</th>\n",
       "      <td>ITALIA</td>\n",
       "      <td>UNIVERSITA DEGLI STUDI DI ROMA LA SAPIENZA</td>\n",
       "      <td>FACULTY OF ARTS AND SCIENCES</td>\n",
       "      <td>ENGLISH LANGUAGE AND LITERATURE</td>\n",
       "      <td>98.50</td>\n",
       "      <td>1</td>\n",
       "    </tr>\n",
       "    <tr>\n",
       "      <th>1</th>\n",
       "      <td>ITALIA</td>\n",
       "      <td>ALMA MATER STUDIORUM - UNIVERSITA DI BOLOGNA</td>\n",
       "      <td>FACULTY OF ARTS AND SCIENCES</td>\n",
       "      <td>SOCIOLOGY</td>\n",
       "      <td>97.10</td>\n",
       "      <td>1</td>\n",
       "    </tr>\n",
       "    <tr>\n",
       "      <th>2</th>\n",
       "      <td>GERMAN</td>\n",
       "      <td>UNIVERSITAET BIELEFELD</td>\n",
       "      <td>FACULTY OF ARTS AND SCIENCES</td>\n",
       "      <td>PSYCHOLOGY</td>\n",
       "      <td>96.80</td>\n",
       "      <td>1</td>\n",
       "    </tr>\n",
       "    <tr>\n",
       "      <th>3</th>\n",
       "      <td>GERMAN</td>\n",
       "      <td>HOCHSCHULE FUR ANGEWANDTE WISSENSCHAFTEN HAMBURG</td>\n",
       "      <td>FACULTY OF HEALTH SCIENCES</td>\n",
       "      <td>NUTRITION AND DIETETICS</td>\n",
       "      <td>96.50</td>\n",
       "      <td>1</td>\n",
       "    </tr>\n",
       "    <tr>\n",
       "      <th>4</th>\n",
       "      <td>ITALIA</td>\n",
       "      <td>UNIVERSITA DEGLI STUDI DI ROMA LA SAPIENZA</td>\n",
       "      <td>FACULTY OF ARTS AND SCIENCES</td>\n",
       "      <td>ENGLISH LANGUAGE AND LITERATURE</td>\n",
       "      <td>96.32</td>\n",
       "      <td>1</td>\n",
       "    </tr>\n",
       "    <tr>\n",
       "      <th>5</th>\n",
       "      <td>FRANCE</td>\n",
       "      <td>INSTITUT D'ETUDES POLITIQUES D'AIX-EN-PROVENCE</td>\n",
       "      <td>FACULTY OF ECONOMICS AND ADMINISTRATIVE SCIENCES</td>\n",
       "      <td>POLITICAL SCIENCE AND INTERNATIONAL RELATIONS</td>\n",
       "      <td>96.15</td>\n",
       "      <td>1</td>\n",
       "    </tr>\n",
       "    <tr>\n",
       "      <th>6</th>\n",
       "      <td>FINLAND</td>\n",
       "      <td>OULUN YLIOPISTO</td>\n",
       "      <td>FACULTY OF ARTS AND SCIENCES</td>\n",
       "      <td>ENGLISH LANGUAGE AND LITERATURE</td>\n",
       "      <td>95.80</td>\n",
       "      <td>1</td>\n",
       "    </tr>\n",
       "    <tr>\n",
       "      <th>7</th>\n",
       "      <td>GREECE</td>\n",
       "      <td>ETHNIKO KAI KAPODISTRIAKO PANEPISTIMIO ATHINON</td>\n",
       "      <td>FACULTY OF ARTS AND SCIENCES</td>\n",
       "      <td>ENGLISH LANGUAGE AND LITERATURE</td>\n",
       "      <td>95.52</td>\n",
       "      <td>1</td>\n",
       "    </tr>\n",
       "    <tr>\n",
       "      <th>8</th>\n",
       "      <td>SPAIN</td>\n",
       "      <td>UNIVERSIDAD AUTONOMA DE BARCELONA</td>\n",
       "      <td>FACULTY OF ARTS AND SCIENCES</td>\n",
       "      <td>TRANSLATION AND INTERPRETING STUDIES</td>\n",
       "      <td>95.13</td>\n",
       "      <td>1</td>\n",
       "    </tr>\n",
       "    <tr>\n",
       "      <th>9</th>\n",
       "      <td>IRELAND</td>\n",
       "      <td>UNIVERSITY OF LIMERICK</td>\n",
       "      <td>FACULTY OF ARTS AND SCIENCES</td>\n",
       "      <td>PSYCHOLOGY</td>\n",
       "      <td>94.45</td>\n",
       "      <td>1</td>\n",
       "    </tr>\n",
       "  </tbody>\n",
       "</table>\n",
       "</div>"
      ],
      "text/plain": [
       "   country                                        university  \\\n",
       "0   ITALIA        UNIVERSITA DEGLI STUDI DI ROMA LA SAPIENZA   \n",
       "1   ITALIA      ALMA MATER STUDIORUM - UNIVERSITA DI BOLOGNA   \n",
       "2   GERMAN                            UNIVERSITAET BIELEFELD   \n",
       "3   GERMAN  HOCHSCHULE FUR ANGEWANDTE WISSENSCHAFTEN HAMBURG   \n",
       "4   ITALIA       UNIVERSITA DEGLI STUDI DI ROMA LA SAPIENZA    \n",
       "5   FRANCE   INSTITUT D'ETUDES POLITIQUES D'AIX-EN-PROVENCE    \n",
       "6  FINLAND                                   OULUN YLIOPISTO   \n",
       "7   GREECE   ETHNIKO KAI KAPODISTRIAKO PANEPISTIMIO ATHINON    \n",
       "8    SPAIN                 UNIVERSIDAD AUTONOMA DE BARCELONA   \n",
       "9  IRELAND                            UNIVERSITY OF LIMERICK   \n",
       "\n",
       "                                            faculty  \\\n",
       "0                      FACULTY OF ARTS AND SCIENCES   \n",
       "1                      FACULTY OF ARTS AND SCIENCES   \n",
       "2                      FACULTY OF ARTS AND SCIENCES   \n",
       "3                        FACULTY OF HEALTH SCIENCES   \n",
       "4                      FACULTY OF ARTS AND SCIENCES   \n",
       "5  FACULTY OF ECONOMICS AND ADMINISTRATIVE SCIENCES   \n",
       "6                      FACULTY OF ARTS AND SCIENCES   \n",
       "7                      FACULTY OF ARTS AND SCIENCES   \n",
       "8                      FACULTY OF ARTS AND SCIENCES   \n",
       "9                      FACULTY OF ARTS AND SCIENCES   \n",
       "\n",
       "                                      department  exam_score  grant  \n",
       "0                ENGLISH LANGUAGE AND LITERATURE       98.50      1  \n",
       "1                                      SOCIOLOGY       97.10      1  \n",
       "2                                     PSYCHOLOGY       96.80      1  \n",
       "3                        NUTRITION AND DIETETICS       96.50      1  \n",
       "4                ENGLISH LANGUAGE AND LITERATURE       96.32      1  \n",
       "5  POLITICAL SCIENCE AND INTERNATIONAL RELATIONS       96.15      1  \n",
       "6                ENGLISH LANGUAGE AND LITERATURE       95.80      1  \n",
       "7                ENGLISH LANGUAGE AND LITERATURE       95.52      1  \n",
       "8           TRANSLATION AND INTERPRETING STUDIES       95.13      1  \n",
       "9                                     PSYCHOLOGY       94.45      1  "
      ]
     },
     "execution_count": 48,
     "metadata": {},
     "output_type": "execute_result"
    }
   ],
   "source": [
    "df_final.rename(columns={'COUNTRIES' : 'country', 'EXAM SCORE': 'exam_score', 'FACULTIES': 'faculty', 'DEPARTMENTS': 'department', 'UNIVERSITIES' : 'university', 'GRANT' : 'grant'}, inplace=True)\n",
    "df_final.head(10)"
   ]
  },
  {
   "cell_type": "code",
   "execution_count": 49,
   "id": "c26d9cfc",
   "metadata": {},
   "outputs": [
    {
     "data": {
      "text/plain": [
       "<Axes: ylabel='exam_score'>"
      ]
     },
     "execution_count": 49,
     "metadata": {},
     "output_type": "execute_result"
    },
    {
     "data": {
      "image/png": "[encoded data removed]",
      "text/plain": [
       "<Figure size 640x480 with 1 Axes>"
      ]
     },
     "metadata": {},
     "output_type": "display_data"
    }
   ],
   "source": [
    "#Verification des valeurs aberrantes\n",
    "\n",
    "sns.boxplot(data=df_final, y=\"exam_score\")"
   ]
  },
  {
   "cell_type": "markdown",
   "id": "665b7b4b",
   "metadata": {},
   "source": [
    "# Analyse descriptives"
   ]
  },
  {
   "cell_type": "code",
   "execution_count": 50,
   "id": "4677c65b",
   "metadata": {},
   "outputs": [
    {
     "name": "stdout",
     "output_type": "stream",
     "text": [
      "Statistiques descriptives pour la colonne exam_score:\n",
      "count    339.000000\n",
      "mean      79.159853\n",
      "std        8.585522\n",
      "min       51.400000\n",
      "25%       73.560000\n",
      "50%       79.320000\n",
      "75%       85.325000\n",
      "max       98.500000\n",
      "Name: exam_score, dtype: float64\n",
      "Asymétrie (Skewness): -0.22656090416246336\n",
      "Kurtosis: -0.310211813006978\n"
     ]
    }
   ],
   "source": [
    "# Calculer les statistiques descriptives pour la colonne des scores\n",
    "descriptive_stats = df_final['exam_score'].describe()\n",
    "skewness = df_final['exam_score'].skew()\n",
    "kurtosis = df_final['exam_score'].kurtosis()\n",
    "\n",
    "# Afficher les résultats\n",
    "print(f\"Statistiques descriptives pour la colonne exam_score:\")\n",
    "print(descriptive_stats)\n",
    "print(f\"Asymétrie (Skewness): {skewness}\")\n",
    "print(f\"Kurtosis: {kurtosis}\")"
   ]
  },
  {
   "cell_type": "markdown",
   "id": "5d3dc76a",
   "metadata": {},
   "source": [
    "#### Une asymétrie de ~ -0.237 indique que les scores d'examen ont une légère tendance à s'étaler plus vers les valeurs inférieures. Cela pourrait suggérer que quelques étudiants ont des scores nettement inférieurs à la moyenne, mais ce n'est pas une tendance très prononcée.\n",
    "\n",
    "#### Un Kurtosis de ~ -0.310 indique une distribution des scores un peu plus aplatie que la normale, indiquant une moindre concentration autour de la moyenne et moins de valeurs extrêmes. Cela signifie que les scores des étudiants sont relativement homogènes, avec moins de variations extrêmes que ce que l'on pourrait attendre dans une distribution normale.\n",
    "\n",
    "Les prochains graphiques vont permettre de prouver ces indications"
   ]
  },
  {
   "cell_type": "code",
   "execution_count": 68,
   "id": "376303df",
   "metadata": {
    "scrolled": false
   },
   "outputs": [
    {
     "data": {
      "image/png": "[encoded data removed]",
      "text/plain": [
       "<Figure size 1000x600 with 1 Axes>"
      ]
     },
     "metadata": {},
     "output_type": "display_data"
    }
   ],
   "source": [
    "# Créer un histogramme et une courbe de densité pour la colonne des scores\n",
    "plt.figure(figsize=(10, 6))\n",
    "sns.histplot(df_final['exam_score'], kde=True, bins=30)\n",
    "plt.title('Distribution des scores d\\'examen Erasmus')\n",
    "plt.xlabel('Score')\n",
    "plt.ylabel('Fréquence')\n",
    "plt.show()"
   ]
  },
  {
   "cell_type": "code",
   "execution_count": null,
   "id": "c1caf9ef",
   "metadata": {},
   "outputs": [],
   "source": []
  }
 ],
 "metadata": {
  "kernelspec": {
   "display_name": "Python 3 (ipykernel)",
   "language": "python",
   "name": "python3"
  },
  "language_info": {
   "codemirror_mode": {
    "name": "ipython",
    "version": 3
   },
   "file_extension": ".py",
   "mimetype": "text/x-python",
   "name": "python",
   "nbconvert_exporter": "python",
   "pygments_lexer": "ipython3",
   "version": "3.10.9"
  }
 },
 "nbformat": 4,
 "nbformat_minor": 5
}
