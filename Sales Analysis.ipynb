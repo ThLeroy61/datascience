{
 "cells": [
  {
   "cell_type": "markdown",
   "id": "9bcadf77",
   "metadata": {},
   "source": [
    "### Liste des questions :\n",
    "\n",
    "- Tracez les ventes quotidiennes pour les 50 semaines.\n",
    "- Il semble qu'il y ait eu un changement soudain dans les ventes quotidiennes. À quelle date cela s'est-il produit ?\n",
    "- Le changement dans les ventes quotidiennes à la date que vous avez sélectionnée est-il statistiquement significatif ? Si oui, quelle est la valeur p ?\n",
    "- Les données suggèrent-elles que le changement dans les ventes quotidiennes est dû à une modification dans la proportion de clients hommes par rapport aux femmes ? Veuillez utiliser des graphiques pour étayer votre réponse (une analyse statistique rigoureuse n'est pas nécessaire).\n",
    "- Supposons qu'une journée soit divisée en quatre plages horaires : nuit (00h00 - 06h00), matin (06h00 - 12h00), après-midi (12h00 - 18h00) et soir (18h00 - 00h00). Quel est le pourcentage des ventes dans chaque plage horaire sur l'ensemble des 50 semaines ?"
   ]
  },
  {
   "cell_type": "code",
   "execution_count": 1,
   "id": "121b0e8c",
   "metadata": {},
   "outputs": [],
   "source": [
    "import pandas as pd\n",
    "import numpy as np\n",
    "import seaborn as sns\n",
    "import glob\n",
    "import matplotlib.pyplot as plt\n",
    "\n",
    "#utile pour faire un t-test et récupérer la p-value\n",
    "from scipy import stats"
   ]
  },
  {
   "cell_type": "markdown",
   "id": "95af1e8e",
   "metadata": {},
   "source": [
    "#### Importation des fichiers csv et intégration dans un dataframe"
   ]
  },
  {
   "cell_type": "code",
   "execution_count": 2,
   "id": "5e680a87",
   "metadata": {},
   "outputs": [
    {
     "name": "stdout",
     "output_type": "stream",
     "text": [
      "50\n"
     ]
    }
   ],
   "source": [
    "#Récupération de tous les fichiers\n",
    "l = [pd.read_csv(filename) for filename in glob.glob(\"./datasetclients/Sales/*.csv\")]\n",
    "\n",
    "print(len(l))"
   ]
  },
  {
   "cell_type": "code",
   "execution_count": 3,
   "id": "25c9fa47",
   "metadata": {},
   "outputs": [
    {
     "data": {
      "text/html": [
       "<div>\n",
       "<style scoped>\n",
       "    .dataframe tbody tr th:only-of-type {\n",
       "        vertical-align: middle;\n",
       "    }\n",
       "\n",
       "    .dataframe tbody tr th {\n",
       "        vertical-align: top;\n",
       "    }\n",
       "\n",
       "    .dataframe thead th {\n",
       "        text-align: right;\n",
       "    }\n",
       "</style>\n",
       "<table border=\"1\" class=\"dataframe\">\n",
       "  <thead>\n",
       "    <tr style=\"text-align: right;\">\n",
       "      <th></th>\n",
       "      <th>sale_time</th>\n",
       "      <th>purchaser_gender</th>\n",
       "    </tr>\n",
       "  </thead>\n",
       "  <tbody>\n",
       "    <tr>\n",
       "      <th>0</th>\n",
       "      <td>2012-10-01 01:42:22</td>\n",
       "      <td>female</td>\n",
       "    </tr>\n",
       "    <tr>\n",
       "      <th>1</th>\n",
       "      <td>2012-10-01 02:24:53</td>\n",
       "      <td>female</td>\n",
       "    </tr>\n",
       "    <tr>\n",
       "      <th>2</th>\n",
       "      <td>2012-10-01 02:25:40</td>\n",
       "      <td>female</td>\n",
       "    </tr>\n",
       "    <tr>\n",
       "      <th>3</th>\n",
       "      <td>2012-10-01 02:30:42</td>\n",
       "      <td>female</td>\n",
       "    </tr>\n",
       "    <tr>\n",
       "      <th>4</th>\n",
       "      <td>2012-10-01 02:51:32</td>\n",
       "      <td>male</td>\n",
       "    </tr>\n",
       "    <tr>\n",
       "      <th>...</th>\n",
       "      <td>...</td>\n",
       "      <td>...</td>\n",
       "    </tr>\n",
       "    <tr>\n",
       "      <th>4994</th>\n",
       "      <td>2013-09-15 23:30:51</td>\n",
       "      <td>female</td>\n",
       "    </tr>\n",
       "    <tr>\n",
       "      <th>4995</th>\n",
       "      <td>2013-09-15 23:42:02</td>\n",
       "      <td>female</td>\n",
       "    </tr>\n",
       "    <tr>\n",
       "      <th>4996</th>\n",
       "      <td>2013-09-15 23:43:24</td>\n",
       "      <td>male</td>\n",
       "    </tr>\n",
       "    <tr>\n",
       "      <th>4997</th>\n",
       "      <td>2013-09-15 23:43:32</td>\n",
       "      <td>male</td>\n",
       "    </tr>\n",
       "    <tr>\n",
       "      <th>4998</th>\n",
       "      <td>2013-09-15 23:48:47</td>\n",
       "      <td>male</td>\n",
       "    </tr>\n",
       "  </tbody>\n",
       "</table>\n",
       "<p>204329 rows × 2 columns</p>\n",
       "</div>"
      ],
      "text/plain": [
       "                sale_time purchaser_gender\n",
       "0     2012-10-01 01:42:22           female\n",
       "1     2012-10-01 02:24:53           female\n",
       "2     2012-10-01 02:25:40           female\n",
       "3     2012-10-01 02:30:42           female\n",
       "4     2012-10-01 02:51:32             male\n",
       "...                   ...              ...\n",
       "4994  2013-09-15 23:30:51           female\n",
       "4995  2013-09-15 23:42:02           female\n",
       "4996  2013-09-15 23:43:24             male\n",
       "4997  2013-09-15 23:43:32             male\n",
       "4998  2013-09-15 23:48:47             male\n",
       "\n",
       "[204329 rows x 2 columns]"
      ]
     },
     "execution_count": 3,
     "metadata": {},
     "output_type": "execute_result"
    }
   ],
   "source": [
    "df = pd.concat(l, axis=0)\n",
    "df"
   ]
  },
  {
   "cell_type": "code",
   "execution_count": 4,
   "id": "933a289b",
   "metadata": {},
   "outputs": [
    {
     "name": "stdout",
     "output_type": "stream",
     "text": [
      "<class 'pandas.core.frame.DataFrame'>\n",
      "Int64Index: 204329 entries, 0 to 4998\n",
      "Data columns (total 2 columns):\n",
      " #   Column            Non-Null Count   Dtype \n",
      "---  ------            --------------   ----- \n",
      " 0   sale_time         204329 non-null  object\n",
      " 1   purchaser_gender  204329 non-null  object\n",
      "dtypes: object(2)\n",
      "memory usage: 4.7+ MB\n"
     ]
    }
   ],
   "source": [
    "#Utilisation de df.info() pour vérifier si il y a des valeurs nulles et le type de données \n",
    "#(j'aurais pu utiliser isna mais j'ai ma réponse ici\n",
    "df.info()"
   ]
  },
  {
   "cell_type": "markdown",
   "id": "356cc015",
   "metadata": {},
   "source": [
    "Le df.info() m'indique que j'ai 204329 lignes, et le même nombre est \"non null\", le dataset est donc bien rempli. Par contre la colonne sales_time est de type objet, je vais la changer en type date"
   ]
  },
  {
   "cell_type": "code",
   "execution_count": 19,
   "id": "24632980",
   "metadata": {},
   "outputs": [],
   "source": [
    "df['sale_time'] = pd.to_datetime(df['sale_time'])"
   ]
  },
  {
   "cell_type": "markdown",
   "id": "472b9a1b",
   "metadata": {},
   "source": [
    "#### Il semblerait qu'il y ai un changement dans les ventes à partir d'un certain jour\n",
    "\n",
    "Pour vérifier ça, je commence par un groupby pour récupérer la quantité de ventes par jours.\n",
    "J'utiliserais ensuite ce tableau de données pour créer un lineplot"
   ]
  },
  {
   "cell_type": "code",
   "execution_count": 6,
   "id": "66019b06",
   "metadata": {},
   "outputs": [
    {
     "data": {
      "text/html": [
       "<div>\n",
       "<style scoped>\n",
       "    .dataframe tbody tr th:only-of-type {\n",
       "        vertical-align: middle;\n",
       "    }\n",
       "\n",
       "    .dataframe tbody tr th {\n",
       "        vertical-align: top;\n",
       "    }\n",
       "\n",
       "    .dataframe thead th {\n",
       "        text-align: right;\n",
       "    }\n",
       "</style>\n",
       "<table border=\"1\" class=\"dataframe\">\n",
       "  <thead>\n",
       "    <tr style=\"text-align: right;\">\n",
       "      <th></th>\n",
       "      <th>sale_time</th>\n",
       "      <th>sales_amount</th>\n",
       "    </tr>\n",
       "  </thead>\n",
       "  <tbody>\n",
       "    <tr>\n",
       "      <th>0</th>\n",
       "      <td>2012-10-01</td>\n",
       "      <td>514</td>\n",
       "    </tr>\n",
       "    <tr>\n",
       "      <th>1</th>\n",
       "      <td>2012-10-02</td>\n",
       "      <td>482</td>\n",
       "    </tr>\n",
       "    <tr>\n",
       "      <th>2</th>\n",
       "      <td>2012-10-03</td>\n",
       "      <td>499</td>\n",
       "    </tr>\n",
       "    <tr>\n",
       "      <th>3</th>\n",
       "      <td>2012-10-04</td>\n",
       "      <td>546</td>\n",
       "    </tr>\n",
       "    <tr>\n",
       "      <th>4</th>\n",
       "      <td>2012-10-05</td>\n",
       "      <td>476</td>\n",
       "    </tr>\n",
       "  </tbody>\n",
       "</table>\n",
       "</div>"
      ],
      "text/plain": [
       "   sale_time  sales_amount\n",
       "0 2012-10-01           514\n",
       "1 2012-10-02           482\n",
       "2 2012-10-03           499\n",
       "3 2012-10-04           546\n",
       "4 2012-10-05           476"
      ]
     },
     "execution_count": 6,
     "metadata": {},
     "output_type": "execute_result"
    }
   ],
   "source": [
    "daily_sales = df['sale_time'].groupby(df['sale_time'].dt.floor('d')).size().reset_index(name=\"sales_amount\")\n",
    "daily_sales.head()"
   ]
  },
  {
   "cell_type": "code",
   "execution_count": 21,
   "id": "0c206e51",
   "metadata": {
    "scrolled": false
   },
   "outputs": [
    {
     "data": {
      "text/plain": [
       "<AxesSubplot:xlabel='sale_time', ylabel='sales_amount'>"
      ]
     },
     "execution_count": 21,
     "metadata": {},
     "output_type": "execute_result"
    },
    {
     "data": {
      "image/png": "[encoded data removed]",
      "text/plain": [
       "<Figure size 936x432 with 1 Axes>"
      ]
     },
     "metadata": {
      "needs_background": "light"
     },
     "output_type": "display_data"
    }
   ],
   "source": [
    "#Création du lineplot\n",
    "\n",
    "plt.figure(figsize=(13, 6))\n",
    "sns.lineplot(data=daily_sales, x='sale_time', y=\"sales_amount\")"
   ]
  },
  {
   "cell_type": "markdown",
   "id": "f16578dd",
   "metadata": {},
   "source": [
    "Le lineplot montre bien une évolution drastique des ventes autour d'Avril et de Mai 2013, mais on va chercher à être plus précis et récupérer la date où la plus haute évolution à eu lieu.\n",
    "\n",
    "Pour ça trois étapes :\n",
    "- Définir les ventes du jour antérieur\n",
    "- Calculer les ventes du jour actuel moins les ventes antérieures\n",
    "- Chercher le moment où l'évolution à été la plus haute et en sortir la date"
   ]
  },
  {
   "cell_type": "code",
   "execution_count": 32,
   "id": "d3ac84c6",
   "metadata": {
    "scrolled": true
   },
   "outputs": [
    {
     "data": {
      "text/html": [
       "<div>\n",
       "<style scoped>\n",
       "    .dataframe tbody tr th:only-of-type {\n",
       "        vertical-align: middle;\n",
       "    }\n",
       "\n",
       "    .dataframe tbody tr th {\n",
       "        vertical-align: top;\n",
       "    }\n",
       "\n",
       "    .dataframe thead th {\n",
       "        text-align: right;\n",
       "    }\n",
       "</style>\n",
       "<table border=\"1\" class=\"dataframe\">\n",
       "  <thead>\n",
       "    <tr style=\"text-align: right;\">\n",
       "      <th></th>\n",
       "      <th>sale_time</th>\n",
       "      <th>sales_amount</th>\n",
       "      <th>prev_day_sale</th>\n",
       "      <th>difference_btw_prev</th>\n",
       "    </tr>\n",
       "  </thead>\n",
       "  <tbody>\n",
       "    <tr>\n",
       "      <th>1</th>\n",
       "      <td>2012-10-02</td>\n",
       "      <td>482</td>\n",
       "      <td>NaN</td>\n",
       "      <td>NaN</td>\n",
       "    </tr>\n",
       "    <tr>\n",
       "      <th>2</th>\n",
       "      <td>2012-10-03</td>\n",
       "      <td>499</td>\n",
       "      <td>482.0</td>\n",
       "      <td>17.0</td>\n",
       "    </tr>\n",
       "    <tr>\n",
       "      <th>3</th>\n",
       "      <td>2012-10-04</td>\n",
       "      <td>546</td>\n",
       "      <td>499.0</td>\n",
       "      <td>47.0</td>\n",
       "    </tr>\n",
       "    <tr>\n",
       "      <th>4</th>\n",
       "      <td>2012-10-05</td>\n",
       "      <td>476</td>\n",
       "      <td>546.0</td>\n",
       "      <td>-70.0</td>\n",
       "    </tr>\n",
       "    <tr>\n",
       "      <th>5</th>\n",
       "      <td>2012-10-06</td>\n",
       "      <td>507</td>\n",
       "      <td>476.0</td>\n",
       "      <td>31.0</td>\n",
       "    </tr>\n",
       "  </tbody>\n",
       "</table>\n",
       "</div>"
      ],
      "text/plain": [
       "   sale_time  sales_amount  prev_day_sale  difference_btw_prev\n",
       "1 2012-10-02           482            NaN                  NaN\n",
       "2 2012-10-03           499          482.0                 17.0\n",
       "3 2012-10-04           546          499.0                 47.0\n",
       "4 2012-10-05           476          546.0                -70.0\n",
       "5 2012-10-06           507          476.0                 31.0"
      ]
     },
     "execution_count": 32,
     "metadata": {},
     "output_type": "execute_result"
    }
   ],
   "source": [
    "#Récupération des différences entre les ventes des différents jours,\n",
    "#ce qui va permettre de trouver le jour où il y a la plus grande différence\n",
    "\n",
    "daily_sales[\"prev_day_sale\"] = daily_sales['sales_amount'].shift(1)\n",
    "daily_sales[\"difference_btw_prev\"] = daily_sales[\"sales_amount\"] - daily_sales[\"prev_day_sale\"]\n",
    "daily_sales.head()"
   ]
  },
  {
   "cell_type": "code",
   "execution_count": 23,
   "id": "a160ff9b",
   "metadata": {
    "scrolled": true
   },
   "outputs": [
    {
     "data": {
      "text/html": [
       "<div>\n",
       "<style scoped>\n",
       "    .dataframe tbody tr th:only-of-type {\n",
       "        vertical-align: middle;\n",
       "    }\n",
       "\n",
       "    .dataframe tbody tr th {\n",
       "        vertical-align: top;\n",
       "    }\n",
       "\n",
       "    .dataframe thead th {\n",
       "        text-align: right;\n",
       "    }\n",
       "</style>\n",
       "<table border=\"1\" class=\"dataframe\">\n",
       "  <thead>\n",
       "    <tr style=\"text-align: right;\">\n",
       "      <th></th>\n",
       "      <th>sale_time</th>\n",
       "      <th>sales_amount</th>\n",
       "      <th>prev_day_sale</th>\n",
       "      <th>difference_btw_prev</th>\n",
       "    </tr>\n",
       "  </thead>\n",
       "  <tbody>\n",
       "    <tr>\n",
       "      <th>210</th>\n",
       "      <td>2013-04-29</td>\n",
       "      <td>732</td>\n",
       "      <td>458.0</td>\n",
       "      <td>274.0</td>\n",
       "    </tr>\n",
       "  </tbody>\n",
       "</table>\n",
       "</div>"
      ],
      "text/plain": [
       "     sale_time  sales_amount  prev_day_sale  difference_btw_prev\n",
       "210 2013-04-29           732          458.0                274.0"
      ]
     },
     "execution_count": 23,
     "metadata": {},
     "output_type": "execute_result"
    }
   ],
   "source": [
    "#Récupération de la différence maximale, et donc de la date associée\n",
    "\n",
    "max_value = daily_sales['difference_btw_prev'].max()\n",
    "df_max_value = daily_sales.loc[daily_sales.difference_btw_prev == max_value]\n",
    "\n",
    "df_max_value"
   ]
  },
  {
   "cell_type": "markdown",
   "id": "fa2c0696",
   "metadata": {},
   "source": [
    "#### Calcul de la p-value\n",
    "\n",
    "Pour ça, j'ai importé au préalable stats.\n",
    "Le premier paramètre récupère toutes les ventes, et fait la comparaison avec la vente la plus haute\n"
   ]
  },
  {
   "cell_type": "code",
   "execution_count": 25,
   "id": "33f66aed",
   "metadata": {},
   "outputs": [
    {
     "data": {
      "text/plain": [
       "Ttest_1sampResult(statistic=210   -26.273266\n",
       "Name: sales_amount, dtype: float64, pvalue=array([1.30195933e-84]))"
      ]
     },
     "execution_count": 25,
     "metadata": {},
     "output_type": "execute_result"
    }
   ],
   "source": [
    "daily_sales.dropna(inplace=True)\n",
    "stats.ttest_1samp(daily_sales['sales_amount'], df_max_value['sales_amount'])"
   ]
  },
  {
   "cell_type": "markdown",
   "id": "09336306",
   "metadata": {},
   "source": [
    "La valeur est largement en dessous de l'attente classique de 0.05\n",
    "Ce qui signifie qu'il y a effectivement eu un très gros impact sur les ventes, et que ça ne semble pas dû au hasard."
   ]
  },
  {
   "cell_type": "markdown",
   "id": "7139c996",
   "metadata": {},
   "source": [
    "#### Vérifions si cette évolution est due à une évolution de la proportion entre femme et homme dans les ventes\n",
    "\n",
    "Je vais faire une copie du dataset, grouper les données par le jour de vente ainsi que le sexe de l'acheteur"
   ]
  },
  {
   "cell_type": "code",
   "execution_count": 26,
   "id": "83d122fe",
   "metadata": {},
   "outputs": [
    {
     "data": {
      "text/html": [
       "<div>\n",
       "<style scoped>\n",
       "    .dataframe tbody tr th:only-of-type {\n",
       "        vertical-align: middle;\n",
       "    }\n",
       "\n",
       "    .dataframe tbody tr th {\n",
       "        vertical-align: top;\n",
       "    }\n",
       "\n",
       "    .dataframe thead th {\n",
       "        text-align: right;\n",
       "    }\n",
       "</style>\n",
       "<table border=\"1\" class=\"dataframe\">\n",
       "  <thead>\n",
       "    <tr style=\"text-align: right;\">\n",
       "      <th></th>\n",
       "      <th>sale_time</th>\n",
       "      <th>purchaser_gender</th>\n",
       "      <th>sales_amount</th>\n",
       "    </tr>\n",
       "  </thead>\n",
       "  <tbody>\n",
       "    <tr>\n",
       "      <th>0</th>\n",
       "      <td>2012-10-01</td>\n",
       "      <td>female</td>\n",
       "      <td>413</td>\n",
       "    </tr>\n",
       "    <tr>\n",
       "      <th>1</th>\n",
       "      <td>2012-10-01</td>\n",
       "      <td>male</td>\n",
       "      <td>101</td>\n",
       "    </tr>\n",
       "    <tr>\n",
       "      <th>2</th>\n",
       "      <td>2012-10-02</td>\n",
       "      <td>female</td>\n",
       "      <td>379</td>\n",
       "    </tr>\n",
       "    <tr>\n",
       "      <th>3</th>\n",
       "      <td>2012-10-02</td>\n",
       "      <td>male</td>\n",
       "      <td>103</td>\n",
       "    </tr>\n",
       "    <tr>\n",
       "      <th>4</th>\n",
       "      <td>2012-10-03</td>\n",
       "      <td>female</td>\n",
       "      <td>386</td>\n",
       "    </tr>\n",
       "    <tr>\n",
       "      <th>...</th>\n",
       "      <td>...</td>\n",
       "      <td>...</td>\n",
       "      <td>...</td>\n",
       "    </tr>\n",
       "    <tr>\n",
       "      <th>695</th>\n",
       "      <td>2013-09-13</td>\n",
       "      <td>male</td>\n",
       "      <td>537</td>\n",
       "    </tr>\n",
       "    <tr>\n",
       "      <th>696</th>\n",
       "      <td>2013-09-14</td>\n",
       "      <td>female</td>\n",
       "      <td>193</td>\n",
       "    </tr>\n",
       "    <tr>\n",
       "      <th>697</th>\n",
       "      <td>2013-09-14</td>\n",
       "      <td>male</td>\n",
       "      <td>462</td>\n",
       "    </tr>\n",
       "    <tr>\n",
       "      <th>698</th>\n",
       "      <td>2013-09-15</td>\n",
       "      <td>female</td>\n",
       "      <td>230</td>\n",
       "    </tr>\n",
       "    <tr>\n",
       "      <th>699</th>\n",
       "      <td>2013-09-15</td>\n",
       "      <td>male</td>\n",
       "      <td>522</td>\n",
       "    </tr>\n",
       "  </tbody>\n",
       "</table>\n",
       "<p>700 rows × 3 columns</p>\n",
       "</div>"
      ],
      "text/plain": [
       "     sale_time purchaser_gender  sales_amount\n",
       "0   2012-10-01           female           413\n",
       "1   2012-10-01             male           101\n",
       "2   2012-10-02           female           379\n",
       "3   2012-10-02             male           103\n",
       "4   2012-10-03           female           386\n",
       "..         ...              ...           ...\n",
       "695 2013-09-13             male           537\n",
       "696 2013-09-14           female           193\n",
       "697 2013-09-14             male           462\n",
       "698 2013-09-15           female           230\n",
       "699 2013-09-15             male           522\n",
       "\n",
       "[700 rows x 3 columns]"
      ]
     },
     "execution_count": 26,
     "metadata": {},
     "output_type": "execute_result"
    }
   ],
   "source": [
    "gender_portion_df = df.copy()\n",
    "gender_portion_df['sale_time'] = gender_portion_df['sale_time'].dt.floor('d')\n",
    "\n",
    "gender_portions = gender_portion_df.groupby(['sale_time', 'purchaser_gender']).size().reset_index(name='sales_amount')\n",
    "gender_portions"
   ]
  },
  {
   "cell_type": "markdown",
   "id": "91bc049c",
   "metadata": {},
   "source": [
    "Ensuite, je vais ajouter plusieurs colonnes :\n",
    "\n",
    "- A nouveau le total des ventes, ça sera utile pour le graphique\n",
    "- Le total de ventes des hommes pour cette journée\n",
    "- Idem pour les femmes\n",
    "- La proportion de ventes d'hommes vs femmes"
   ]
  },
  {
   "cell_type": "code",
   "execution_count": 27,
   "id": "6a92483d",
   "metadata": {},
   "outputs": [
    {
     "data": {
      "text/html": [
       "<div>\n",
       "<style scoped>\n",
       "    .dataframe tbody tr th:only-of-type {\n",
       "        vertical-align: middle;\n",
       "    }\n",
       "\n",
       "    .dataframe tbody tr th {\n",
       "        vertical-align: top;\n",
       "    }\n",
       "\n",
       "    .dataframe thead th {\n",
       "        text-align: right;\n",
       "    }\n",
       "</style>\n",
       "<table border=\"1\" class=\"dataframe\">\n",
       "  <thead>\n",
       "    <tr style=\"text-align: right;\">\n",
       "      <th></th>\n",
       "      <th>sale_time</th>\n",
       "      <th>male_sales</th>\n",
       "      <th>female_sales</th>\n",
       "      <th>proportion</th>\n",
       "      <th>total_sales</th>\n",
       "    </tr>\n",
       "  </thead>\n",
       "  <tbody>\n",
       "    <tr>\n",
       "      <th>0</th>\n",
       "      <td>2012-10-01</td>\n",
       "      <td>101</td>\n",
       "      <td>413</td>\n",
       "      <td>0.244552</td>\n",
       "      <td>514</td>\n",
       "    </tr>\n",
       "    <tr>\n",
       "      <th>1</th>\n",
       "      <td>2012-10-02</td>\n",
       "      <td>103</td>\n",
       "      <td>379</td>\n",
       "      <td>0.271768</td>\n",
       "      <td>482</td>\n",
       "    </tr>\n",
       "    <tr>\n",
       "      <th>2</th>\n",
       "      <td>2012-10-03</td>\n",
       "      <td>113</td>\n",
       "      <td>386</td>\n",
       "      <td>0.292746</td>\n",
       "      <td>499</td>\n",
       "    </tr>\n",
       "    <tr>\n",
       "      <th>3</th>\n",
       "      <td>2012-10-04</td>\n",
       "      <td>114</td>\n",
       "      <td>432</td>\n",
       "      <td>0.263889</td>\n",
       "      <td>546</td>\n",
       "    </tr>\n",
       "    <tr>\n",
       "      <th>4</th>\n",
       "      <td>2012-10-05</td>\n",
       "      <td>108</td>\n",
       "      <td>368</td>\n",
       "      <td>0.293478</td>\n",
       "      <td>476</td>\n",
       "    </tr>\n",
       "    <tr>\n",
       "      <th>...</th>\n",
       "      <td>...</td>\n",
       "      <td>...</td>\n",
       "      <td>...</td>\n",
       "      <td>...</td>\n",
       "      <td>...</td>\n",
       "    </tr>\n",
       "    <tr>\n",
       "      <th>345</th>\n",
       "      <td>2013-09-11</td>\n",
       "      <td>495</td>\n",
       "      <td>224</td>\n",
       "      <td>2.209821</td>\n",
       "      <td>719</td>\n",
       "    </tr>\n",
       "    <tr>\n",
       "      <th>346</th>\n",
       "      <td>2013-09-12</td>\n",
       "      <td>510</td>\n",
       "      <td>225</td>\n",
       "      <td>2.266667</td>\n",
       "      <td>735</td>\n",
       "    </tr>\n",
       "    <tr>\n",
       "      <th>347</th>\n",
       "      <td>2013-09-13</td>\n",
       "      <td>537</td>\n",
       "      <td>206</td>\n",
       "      <td>2.606796</td>\n",
       "      <td>743</td>\n",
       "    </tr>\n",
       "    <tr>\n",
       "      <th>348</th>\n",
       "      <td>2013-09-14</td>\n",
       "      <td>462</td>\n",
       "      <td>193</td>\n",
       "      <td>2.393782</td>\n",
       "      <td>655</td>\n",
       "    </tr>\n",
       "    <tr>\n",
       "      <th>349</th>\n",
       "      <td>2013-09-15</td>\n",
       "      <td>522</td>\n",
       "      <td>230</td>\n",
       "      <td>2.269565</td>\n",
       "      <td>752</td>\n",
       "    </tr>\n",
       "  </tbody>\n",
       "</table>\n",
       "<p>350 rows × 5 columns</p>\n",
       "</div>"
      ],
      "text/plain": [
       "     sale_time  male_sales  female_sales  proportion  total_sales\n",
       "0   2012-10-01         101           413    0.244552          514\n",
       "1   2012-10-02         103           379    0.271768          482\n",
       "2   2012-10-03         113           386    0.292746          499\n",
       "3   2012-10-04         114           432    0.263889          546\n",
       "4   2012-10-05         108           368    0.293478          476\n",
       "..         ...         ...           ...         ...          ...\n",
       "345 2013-09-11         495           224    2.209821          719\n",
       "346 2013-09-12         510           225    2.266667          735\n",
       "347 2013-09-13         537           206    2.606796          743\n",
       "348 2013-09-14         462           193    2.393782          655\n",
       "349 2013-09-15         522           230    2.269565          752\n",
       "\n",
       "[350 rows x 5 columns]"
      ]
     },
     "execution_count": 27,
     "metadata": {},
     "output_type": "execute_result"
    }
   ],
   "source": [
    "new_df = pd.DataFrame(gender_portions['sale_time'].unique(),columns=['sale_time'])\n",
    "new_df['male_sales'] = pd.Series(gender_portions[gender_portions.purchaser_gender == \"male\"][\"sales_amount\"]).reset_index(drop=True)\n",
    "new_df['female_sales'] = pd.Series(gender_portions[gender_portions.purchaser_gender == \"female\"][\"sales_amount\"]).reset_index(drop=True)\n",
    "new_df['proportion'] = new_df[\"male_sales\"] / new_df[\"female_sales\"]\n",
    "new_df['total_sales'] = new_df[\"male_sales\"] + new_df[\"female_sales\"]\n",
    "\n",
    "new_df"
   ]
  },
  {
   "cell_type": "markdown",
   "id": "1cbfc607",
   "metadata": {},
   "source": [
    "Je vais ensuite créer un lineplot pour comparer l'évolution de la proportion d'homme aux ventes, pour voir si il y a une correlation."
   ]
  },
  {
   "cell_type": "code",
   "execution_count": 13,
   "id": "370db815",
   "metadata": {},
   "outputs": [
    {
     "data": {
      "text/plain": [
       "Text(0.5, 1.0, 'Total Sales and Proportion Over Time')"
      ]
     },
     "execution_count": 13,
     "metadata": {},
     "output_type": "execute_result"
    },
    {
     "data": {
      "image/png": "[encoded data removed]",
      "text/plain": [
       "<Figure size 864x432 with 2 Axes>"
      ]
     },
     "metadata": {
      "needs_background": "light"
     },
     "output_type": "display_data"
    }
   ],
   "source": [
    "# Initialisation de la figure et des deux axes\n",
    "fig, ax1 = plt.subplots(figsize=(12, 6))\n",
    "\n",
    "# Tracer des ventes totales sur le premier axe (ax1)\n",
    "sns.lineplot(data=new_df, x=\"sale_time\", y=\"total_sales\", ax=ax1, label=\"Total Sales\", color=\"blue\")\n",
    "ax1.set_ylabel(\"Total Sales\")\n",
    "\n",
    "# Création du deuxième axe (ax2) qui partage le même axe x\n",
    "ax2 = ax1.twinx()\n",
    "sns.lineplot(data=new_df, x=\"sale_time\", y=\"proportion\", ax=ax2, label=\"Proportion\", color=\"orange\")\n",
    "ax2.set_ylabel(\"Proportion\")\n",
    "\n",
    "# Personnalisation et ajout d'une légende\n",
    "ax1.set_title(\"Total Sales and Proportion Over Time\")"
   ]
  },
  {
   "cell_type": "markdown",
   "id": "390c26dd",
   "metadata": {},
   "source": [
    "La proportion d'hommes évolue constamment et de manière plutôt linéaire par rapport aux ventes qui explosent d'un coup à partir d'avril/mai 2013. On peut donc dire que l'évolution de la proportion des hommes n'a aucun lien avec l'explosion des ventes"
   ]
  },
  {
   "cell_type": "markdown",
   "id": "0e62a1e5",
   "metadata": {},
   "source": [
    "### Focus sur la dernière question\n",
    "\n",
    "Définition des créneaux horaires de chaque transaction"
   ]
  },
  {
   "cell_type": "code",
   "execution_count": 14,
   "id": "8ce2ec9e",
   "metadata": {},
   "outputs": [
    {
     "data": {
      "text/html": [
       "<div>\n",
       "<style scoped>\n",
       "    .dataframe tbody tr th:only-of-type {\n",
       "        vertical-align: middle;\n",
       "    }\n",
       "\n",
       "    .dataframe tbody tr th {\n",
       "        vertical-align: top;\n",
       "    }\n",
       "\n",
       "    .dataframe thead th {\n",
       "        text-align: right;\n",
       "    }\n",
       "</style>\n",
       "<table border=\"1\" class=\"dataframe\">\n",
       "  <thead>\n",
       "    <tr style=\"text-align: right;\">\n",
       "      <th></th>\n",
       "      <th>sale_time</th>\n",
       "      <th>purchaser_gender</th>\n",
       "      <th>sale_hour</th>\n",
       "    </tr>\n",
       "  </thead>\n",
       "  <tbody>\n",
       "    <tr>\n",
       "      <th>0</th>\n",
       "      <td>2012-10-01 01:42:22</td>\n",
       "      <td>female</td>\n",
       "      <td>2</td>\n",
       "    </tr>\n",
       "    <tr>\n",
       "      <th>1</th>\n",
       "      <td>2012-10-01 02:24:53</td>\n",
       "      <td>female</td>\n",
       "      <td>3</td>\n",
       "    </tr>\n",
       "    <tr>\n",
       "      <th>2</th>\n",
       "      <td>2012-10-01 02:25:40</td>\n",
       "      <td>female</td>\n",
       "      <td>3</td>\n",
       "    </tr>\n",
       "    <tr>\n",
       "      <th>3</th>\n",
       "      <td>2012-10-01 02:30:42</td>\n",
       "      <td>female</td>\n",
       "      <td>3</td>\n",
       "    </tr>\n",
       "    <tr>\n",
       "      <th>4</th>\n",
       "      <td>2012-10-01 02:51:32</td>\n",
       "      <td>male</td>\n",
       "      <td>3</td>\n",
       "    </tr>\n",
       "  </tbody>\n",
       "</table>\n",
       "</div>"
      ],
      "text/plain": [
       "            sale_time purchaser_gender  sale_hour\n",
       "0 2012-10-01 01:42:22           female          2\n",
       "1 2012-10-01 02:24:53           female          3\n",
       "2 2012-10-01 02:25:40           female          3\n",
       "3 2012-10-01 02:30:42           female          3\n",
       "4 2012-10-01 02:51:32             male          3"
      ]
     },
     "execution_count": 14,
     "metadata": {},
     "output_type": "execute_result"
    }
   ],
   "source": [
    "df[\"sale_hour\"] = df['sale_time'].dt.ceil('h').dt.hour\n",
    "\n",
    "df.head()"
   ]
  },
  {
   "cell_type": "code",
   "execution_count": 15,
   "id": "e1e3c4c1",
   "metadata": {},
   "outputs": [
    {
     "data": {
      "text/html": [
       "<div>\n",
       "<style scoped>\n",
       "    .dataframe tbody tr th:only-of-type {\n",
       "        vertical-align: middle;\n",
       "    }\n",
       "\n",
       "    .dataframe tbody tr th {\n",
       "        vertical-align: top;\n",
       "    }\n",
       "\n",
       "    .dataframe thead th {\n",
       "        text-align: right;\n",
       "    }\n",
       "</style>\n",
       "<table border=\"1\" class=\"dataframe\">\n",
       "  <thead>\n",
       "    <tr style=\"text-align: right;\">\n",
       "      <th></th>\n",
       "      <th>sale_time</th>\n",
       "      <th>purchaser_gender</th>\n",
       "      <th>sale_hour</th>\n",
       "      <th>daypart</th>\n",
       "    </tr>\n",
       "  </thead>\n",
       "  <tbody>\n",
       "    <tr>\n",
       "      <th>0</th>\n",
       "      <td>2012-10-01 01:42:22</td>\n",
       "      <td>female</td>\n",
       "      <td>2</td>\n",
       "      <td>night</td>\n",
       "    </tr>\n",
       "    <tr>\n",
       "      <th>1</th>\n",
       "      <td>2012-10-01 02:24:53</td>\n",
       "      <td>female</td>\n",
       "      <td>3</td>\n",
       "      <td>night</td>\n",
       "    </tr>\n",
       "    <tr>\n",
       "      <th>2</th>\n",
       "      <td>2012-10-01 02:25:40</td>\n",
       "      <td>female</td>\n",
       "      <td>3</td>\n",
       "      <td>night</td>\n",
       "    </tr>\n",
       "    <tr>\n",
       "      <th>3</th>\n",
       "      <td>2012-10-01 02:30:42</td>\n",
       "      <td>female</td>\n",
       "      <td>3</td>\n",
       "      <td>night</td>\n",
       "    </tr>\n",
       "    <tr>\n",
       "      <th>4</th>\n",
       "      <td>2012-10-01 02:51:32</td>\n",
       "      <td>male</td>\n",
       "      <td>3</td>\n",
       "      <td>night</td>\n",
       "    </tr>\n",
       "  </tbody>\n",
       "</table>\n",
       "</div>"
      ],
      "text/plain": [
       "            sale_time purchaser_gender  sale_hour daypart\n",
       "0 2012-10-01 01:42:22           female          2   night\n",
       "1 2012-10-01 02:24:53           female          3   night\n",
       "2 2012-10-01 02:25:40           female          3   night\n",
       "3 2012-10-01 02:30:42           female          3   night\n",
       "4 2012-10-01 02:51:32             male          3   night"
      ]
     },
     "execution_count": 15,
     "metadata": {},
     "output_type": "execute_result"
    }
   ],
   "source": [
    "def get_daypart(sale_hour):\n",
    "    if sale_hour >= 0 and sale_hour < 6:\n",
    "        return \"night\"\n",
    "    if sale_hour >= 6 and sale_hour < 12:\n",
    "        return \"morning\"\n",
    "    if sale_hour >= 12 and sale_hour < 18:\n",
    "        return \"afternoon\"\n",
    "    if sale_hour >= 18 and sale_hour < 24:\n",
    "        return \"evening\"\n",
    "    \n",
    "df[\"daypart\"] = df['sale_hour'].apply(get_daypart)\n",
    "\n",
    "df.head()"
   ]
  },
  {
   "cell_type": "code",
   "execution_count": 28,
   "id": "1f3ef2d2",
   "metadata": {},
   "outputs": [
    {
     "data": {
      "text/html": [
       "<div>\n",
       "<style scoped>\n",
       "    .dataframe tbody tr th:only-of-type {\n",
       "        vertical-align: middle;\n",
       "    }\n",
       "\n",
       "    .dataframe tbody tr th {\n",
       "        vertical-align: top;\n",
       "    }\n",
       "\n",
       "    .dataframe thead th {\n",
       "        text-align: right;\n",
       "    }\n",
       "</style>\n",
       "<table border=\"1\" class=\"dataframe\">\n",
       "  <thead>\n",
       "    <tr style=\"text-align: right;\">\n",
       "      <th></th>\n",
       "      <th>daypart</th>\n",
       "      <th>day_part_sales_amount</th>\n",
       "      <th>percentage</th>\n",
       "    </tr>\n",
       "  </thead>\n",
       "  <tbody>\n",
       "    <tr>\n",
       "      <th>0</th>\n",
       "      <td>afternoon</td>\n",
       "      <td>81159</td>\n",
       "      <td>39.719766</td>\n",
       "    </tr>\n",
       "    <tr>\n",
       "      <th>1</th>\n",
       "      <td>evening</td>\n",
       "      <td>53523</td>\n",
       "      <td>26.194520</td>\n",
       "    </tr>\n",
       "    <tr>\n",
       "      <th>2</th>\n",
       "      <td>morning</td>\n",
       "      <td>56080</td>\n",
       "      <td>27.445933</td>\n",
       "    </tr>\n",
       "    <tr>\n",
       "      <th>3</th>\n",
       "      <td>night</td>\n",
       "      <td>13567</td>\n",
       "      <td>6.639782</td>\n",
       "    </tr>\n",
       "  </tbody>\n",
       "</table>\n",
       "</div>"
      ],
      "text/plain": [
       "     daypart  day_part_sales_amount  percentage\n",
       "0  afternoon                  81159   39.719766\n",
       "1    evening                  53523   26.194520\n",
       "2    morning                  56080   27.445933\n",
       "3      night                  13567    6.639782"
      ]
     },
     "execution_count": 28,
     "metadata": {},
     "output_type": "execute_result"
    }
   ],
   "source": [
    "df_daypart = df.groupby('daypart').size().reset_index(name='day_part_sales_amount')\n",
    "\n",
    "df_daypart['percentage'] = (df_daypart[\"day_part_sales_amount\"] / df_daypart[\"day_part_sales_amount\"].sum()) * 100\n",
    "\n",
    "df_daypart"
   ]
  },
  {
   "cell_type": "markdown",
   "id": "fcaf715a",
   "metadata": {},
   "source": [
    "Ce dernier point indique que la majorité des ventes se font dans l'après midi, sinon le soir/matin"
   ]
  }
 ],
 "metadata": {
  "kernelspec": {
   "display_name": "Python 3 (ipykernel)",
   "language": "python",
   "name": "python3"
  },
  "language_info": {
   "codemirror_mode": {
    "name": "ipython",
    "version": 3
   },
   "file_extension": ".py",
   "mimetype": "text/x-python",
   "name": "python",
   "nbconvert_exporter": "python",
   "pygments_lexer": "ipython3",
   "version": "3.9.7"
  }
 },
 "nbformat": 4,
 "nbformat_minor": 5
}
